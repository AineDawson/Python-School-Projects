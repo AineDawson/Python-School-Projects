{
 "cells": [
  {
   "cell_type": "markdown",
   "metadata": {},
   "source": [
    "Lab #5:  Banking Simulation Part II\n",
    "===================\n",
    "Submit your  completed files to Blackboard by 04-NOV-2015.\n",
    "\n",
    "In this lab assignment will make use of \"Lab4.py\" created last week.  Make sure you have a fully working copy of \"Lab4.py\" in your the working directory.  \n",
    "\n",
    "In the first four sections you will create functions that you will add to a new file called \"Lab5.py\".  In the last section you will create a second file called \"Lab5-script.py\" which will be script that calls your simulation function.\n",
    "\n",
    "\"Lab5.py\" should start with a \"import Lab4\" statement because it is going to use the functions you wrote last week in Lab4.\n",
    "\n",
    "\"Lab5-script.py\" should start with \"import Lab5\" because it will call the *runSimulation* function in \"Lab5.py\" that you will write below.\n",
    "\n",
    "After you have everything working submit both \"Lab5.py\" and \"Lab5-script.py\" to Blackboard."
   ]
  },
  {
   "cell_type": "markdown",
   "metadata": {},
   "source": [
    "<h3>Run this code first:</h3>"
   ]
  },
  {
   "cell_type": "code",
   "execution_count": 1,
   "metadata": {
    "collapsed": false
   },
   "outputs": [],
   "source": [
    "import Lab4\n",
    "import Lab5"
   ]
  },
  {
   "cell_type": "markdown",
   "metadata": {},
   "source": [
    "<h3>Processing events</h3>\n",
    "\n",
    "Your simulation will have a main loop.  On each loop iteration, the next event in time order will be removed from *events\" and processed.  The processing of an event depends on whether it is an arrival event, a service event, or a teller event.  You will now write a processing function for each type of event."
   ]
  },
  {
   "cell_type": "markdown",
   "metadata": {},
   "source": [
    "<h3>1) Processing an arrival event </h3>"
   ]
  },
  {
   "cell_type": "markdown",
   "metadata": {},
   "source": [
    "An arrival event oo the *events* list signifies a customer who is hasn't yet come into the bank.  When the simulation removes an event from the *events* list to process it, that means it's time for the customer to walk into the bank and line up for a teller.  \n",
    "\n",
    "Write a Python function *processArrival* which takes a single string parameter *arrivalEvent*.  Its job is to process this event.  This function should return nothing and produce no output.  What it should do is loop through the *queues* list and find the shortest sublist (if there multiple shortest sublists, it should pick the first sublist).  It should then append *arrivalEvent* to the sublist it found."
   ]
  },
  {
   "cell_type": "code",
   "execution_count": 2,
   "metadata": {
    "collapsed": false
   },
   "outputs": [],
   "source": [
    "# Test code for your function\n",
    "Lab4.queues = [[]]\n",
    "assert(Lab5.processArrival('00252A999999900071') == None)\n",
    "assert(Lab4.queues == [['00252A999999900071']])\n",
    "assert(Lab5.processArrival('00261A999999900169') == None)\n",
    "assert(Lab4.queues == [['00252A999999900071', '00261A999999900169']] )\n",
    "assert(Lab5.processArrival('00283A999999900028') == None)\n",
    "assert(Lab4.queues == [['00252A999999900071', '00261A999999900169', '00283A999999900028']] )\n",
    "\n",
    "Lab4.queues = [[], [], []]\n",
    "assert(Lab5.processArrival('00169A999999900209') == None)\n",
    "assert(Lab4.queues == [['00169A999999900209'], [], []] )\n",
    "assert(Lab5.processArrival('00186A999999900201') == None)\n",
    "assert(Lab4.queues == [['00169A999999900209'], ['00186A999999900201'], []])\n",
    "\n",
    "Lab4.queues = [['00252A999999900071'], ['00261A999999900169'], []]\n",
    "assert(Lab5.processArrival('00283A999999900028') == None)\n",
    "assert(Lab4.queues == [['00252A999999900071'], ['00261A999999900169'], ['00283A999999900028']])\n",
    "\n",
    "Lab4.queues = [['00252A999999900071'], ['00261A999999900169'], ['00286A999999900161']]\n",
    "assert(Lab5.processArrival('00307A999999900112') == None)\n",
    "assert(Lab4.queues == [['00252A999999900071', '00307A999999900112'], ['00261A999999900169'], ['00286A999999900161']])\n",
    "\n",
    "Lab4.queues = [['00486A999999900249', '00539A999999900189'], ['00470A999999900084'], ['00545A999999900139']]\n",
    "assert(Lab5.processArrival('00546A999999900271') == None)\n",
    "assert(Lab4.queues == [['00486A999999900249', '00539A999999900189'], ['00470A999999900084', '00546A999999900271'], \\\n",
    "                       ['00545A999999900139']])\n",
    "assert(Lab5.processArrival('00548A999999900267') == None)\n",
    "assert(Lab4.queues == [['00486A999999900249', '00539A999999900189'], ['00470A999999900084', '00546A999999900271'], \\\n",
    "                       ['00545A999999900139', '00548A999999900267']])\n",
    "assert(Lab5.processArrival('00169A999999900209') == None)\n",
    "assert(Lab4.queues == [['00486A999999900249', '00539A999999900189','00169A999999900209'], \\\n",
    "                       ['00470A999999900084', '00546A999999900271'], ['00545A999999900139', '00548A999999900267']])"
   ]
  },
  {
   "cell_type": "markdown",
   "metadata": {},
   "source": [
    "<h3>2) Processing a teller event </h3>"
   ]
  },
  {
   "cell_type": "markdown",
   "metadata": {},
   "source": [
    "A teller event keeps track of a teller who is not serving customers.  When the teller event is removed from the *events* list, the teller is done taking a break and is ready to serve a new customer.\n",
    "\n",
    "Write a Python function *processTeller* which takes a single string parameter *tellerEvent*.  Its job is to process this event. This function should return nothing and produce no output. \n",
    "\n",
    "Here is a description of what the function should do:\n",
    "1. First it determinss which sublist of arrival events it should look at. If Lab4.queues consists of a single sublist, it will use that sublist.  Otherwise, it will use the teller number encoded in the *event* parameter to determine the sublist.\n",
    "2.  Once the appropriate sublist is determined, the teller either starts serving a customer from the sublist, or the teller takes another break.  If sublist is not empty, it removes the first event from this list and generates a service event using the arrival time and service event from the event it removed from the list.  Otherwise, it will generate a new teller event using the teller number and current time from the original *tellerEvent* parameter.\n",
    "\n",
    "*Notes:*\n",
    "* Make sure you use the Lab4 functions getTime, getTeller, and getService to pull information from events.  You are not allowed to access the event string format directly in Lab 5.\n",
    "* Simlarly, make sure you the Lab4 functions makeServiceEvent and makeTellerEvent to generate the new events.  \n",
    "* To remove the *first* event from a list L, pass 0 as a parameter to the pop member function."
   ]
  },
  {
   "cell_type": "code",
   "execution_count": 3,
   "metadata": {
    "collapsed": true
   },
   "outputs": [],
   "source": [
    "import random\n",
    "random.seed(0)\n",
    "Lab4.events = ['03161S020231000253', '03067S000232300166']\n",
    "Lab4.queues = [[]]\n",
    "assert(Lab5.processTeller('02972T010000299999') == None)\n",
    "assert(Lab4.events == ['03161S020231000253', '03067S000232300166', '03026T010005499999'])\n",
    "assert(Lab4.queues == [[]])\n",
    "\n",
    "Lab4.events = ['00598A999999900253', '00578A999999900166', '00570A999999900160', '00554A999999900233', \\\n",
    "                  '00082T010005999999', '00070A999999900061', '00065A999999900152', '00048A999999900088']\n",
    "Lab4.queues = [['00027A999999900158']]\n",
    "assert(Lab5.processTeller('00035T000003599999') == None)\n",
    "assert(Lab4.events == ['00598A999999900253', '00578A999999900166', '00570A999999900160', '00554A999999900233', \\\n",
    "                 '00082T010005999999', '00070A999999900061', '00065A999999900152', '00048A999999900088', \\\n",
    "                 '00193S000000800158'])\n",
    "assert(Lab4.queues == [[]])\n",
    "\n",
    "Lab4.events = ['00598A999999900253', '00578A999999900166', '00570A999999900160', '00554A999999900233', \\\n",
    "                  '00088A999999900193']\n",
    "Lab4.queues = [['00048A999999900088', '00065A999999900152', '00070A999999900061']]\n",
    "assert(Lab5.processTeller('00082T010005999999') == None)\n",
    "assert(Lab4.events == ['00598A999999900253', '00578A999999900166', '00570A999999900160', '00554A999999900233', \\\n",
    "                 '00088A999999900193', '00170S010003400088'] )\n",
    "assert(Lab4.queues == [['00065A999999900152', '00070A999999900061']])\n",
    "\n",
    "Lab4.events = ['00598A999999900253', '00578A999999900166', '00570A999999900160', '00554A999999900233', \\\n",
    "               '00023T010002399999']\n",
    "Lab4.queues = [['00001A999999900136'], [], []]\n",
    "assert(Lab5.processTeller('00022T020002299999') == None)\n",
    "assert(Lab4.events == ['00598A999999900253', '00578A999999900166', '00570A999999900160', '00554A999999900233', \\\n",
    "                       '00023T010002399999', '00046T020002499999'])\n",
    "assert(Lab4.queues == [['00001A999999900136'], [], []])\n",
    "\n",
    "Lab4.events = ['00598A999999900253', '00578A999999900166', '00570A999999900160', '00554A999999900233']\n",
    "Lab4.queues = [['00001A999999900136'], ['00027A999999900158'], []]\n",
    "assert(Lab5.processTeller('00035T000003599999') == None)\n",
    "assert(Lab4.events == ['00598A999999900253', '00578A999999900166', '00570A999999900160', '00554A999999900233', \\\n",
    "                       '00171S000003400136'])\n",
    "assert(Lab4.queues == [[], ['00027A999999900158'], []])\n",
    "       \n",
    "Lab4.events = ['00598A999999900253', '00578A999999900166', '00570A999999900160', '00554A999999900233', \\\n",
    "               '00084T010005899999']\n",
    "Lab4.queues = [['00048A999999900088', '00070A999999900061'], ['00027A999999900158'], ['00065A999999900152']]\n",
    "assert(Lab5.processTeller('00081T020005999999') == None)\n",
    "assert(Lab4.events == ['00598A999999900253', '00578A999999900166', '00570A999999900160', '00554A999999900233', \\\n",
    "                       '00084T010005899999', '00233S020001600152'])\n",
    "assert(Lab4.queues == [['00048A999999900088', '00070A999999900061'], ['00027A999999900158'], []])"
   ]
  },
  {
   "cell_type": "markdown",
   "metadata": {},
   "source": [
    "<h3>3) Processing a service event</h3>"
   ]
  },
  {
   "cell_type": "markdown",
   "metadata": {},
   "source": [
    "A service event means that a customer is finished with the teller transaction and going to leave the bank.  \n",
    "\n",
    "Write a Python function *processServce* which takes a single string parameter *serviceEvent*. Its job is to process this event. This function should return nothing and produce no output. \n",
    "\n",
    "This function is simple:\n",
    "1. Append *serviceEvent* to the list *completed*\n",
    "2. Have the teller start servicing the next person in line\n",
    "\n",
    "Both 1) and 2) are one line operations.  Hint: call *processTeller* for the second step."
   ]
  },
  {
   "cell_type": "code",
   "execution_count": 4,
   "metadata": {
    "collapsed": true
   },
   "outputs": [],
   "source": [
    "import random\n",
    "random.seed(0)\n",
    "Lab4.events = ['00598A999999900253', '00578A999999900166', '00570A999999900160', '00554A999999900233', \\\n",
    "               '00186A999999900201', '00170S010003400088', '00169A999999900209']\n",
    "Lab4.queues = [['00065A999999900152', '00070A999999900061', '00088A999999900193', '00114A999999900052', \\\n",
    "                '00115A999999900157', '00143A999999900267', '00146A999999900202', '00156A999999900222']]\n",
    "Lab4.completed = []\n",
    "assert(Lab5.processService('00158S020002100136') == None)\n",
    "assert(Lab4.events == ['00598A999999900253', '00578A999999900166', '00570A999999900160', '00554A999999900233', \\\n",
    "                       '00186A999999900201', '00170S010003400088', '00169A999999900209', '00310S020009300152'])\n",
    "assert(Lab4.queues == [['00070A999999900061', '00088A999999900193', '00114A999999900052', '00115A999999900157', \\\n",
    "                        '00143A999999900267', '00146A999999900202', '00156A999999900222']])\n",
    "assert(Lab4.completed == ['00158S020002100136'])\n",
    "\n",
    "Lab4.events = ['00598A999999900253', '00578A999999900166', '00570A999999900160', '00554A999999900233', \\\n",
    "                         '00193S000000800158', '00186A999999900201']\n",
    "Lab4.queues = [['00070A999999900061', '00088A999999900193', '00114A999999900052', '00115A999999900157', \\\n",
    "                '00143A999999900267', '00146A999999900202', '00156A999999900222', '00169A999999900209']]\n",
    "Lab4.completed = ['00158S020002100136']\n",
    "assert(Lab5.processService('00170S010003400088') == None)\n",
    "assert(Lab4.events == ['00598A999999900253', '00578A999999900166', '00570A999999900160', '00554A999999900233', \\\n",
    "                       '00193S000000800158', '00186A999999900201', '00231S010010000061'])\n",
    "assert(Lab4.queues == [['00088A999999900193', '00114A999999900052', '00115A999999900157', '00143A999999900267', \\\n",
    "                        '00146A999999900202', '00156A999999900222', '00169A999999900209']])\n",
    "\n",
    "Lab4.events = ['03067S000232300166', '02970S010224000160']\n",
    "Lab4.queues = [['00598A999999900253']]\n",
    "Lab4.completed = ['00158S020002100136', '00170S010003400088', '00193S000000800158', '00231S010010000061']\n",
    "assert(Lab5.processService('02908S020212100233') == None)\n",
    "assert(Lab4.events == ['03067S000232300166', '02970S010224000160', '03161S020231000253'])\n",
    "assert(Lab4.queues == [[]])\n",
    "assert(Lab4.completed == ['00158S020002100136', '00170S010003400088', '00193S000000800158', '00231S010010000061', \\\n",
    "                          '02908S020212100233'])\n",
    "\n",
    "Lab4.events = ['03161S020231000253', '03067S000232300166']\n",
    "Lab4.queues = [[]]\n",
    "Lab4.completed = ['00158S020002100136', '00170S010003400088', '00193S000000800158', '00231S010010000061', \\\n",
    "                  '02908S020212100233']\n",
    "assert(Lab5.processService('02970S010224000160') == None)\n",
    "assert(Lab4.events == ['03161S020231000253', '03067S000232300166', '03024T010005499999'])\n",
    "assert(Lab4.queues == [[]])\n",
    "assert(Lab4.completed == ['00158S020002100136', '00170S010003400088', '00193S000000800158', '00231S010010000061', \\\n",
    "                          '02908S020212100233', '02970S010224000160'])\n",
    "\n",
    "Lab4.events = ['03043T020003999999', '03027T000002199999']\n",
    "Lab4.queues = [[], ['00578A999999900166', '00598A999999900253'], []]\n",
    "Lab4.completed = ['00171S000003400136', '00233S020001600152', '00242S010005700158', '00259S000012300088', \\\n",
    "                  '02957S000222700160']\n",
    "assert(Lab5.processService('03027S010221000271') == None)\n",
    "assert(Lab4.events == ['03043T020003999999', '03027T000002199999', '03193S010244900166'])\n",
    "assert(Lab4.queues == [[], ['00598A999999900253'], []])\n",
    "assert(Lab4.completed == ['00171S000003400136', '00233S020001600152', '00242S010005700158', '00259S000012300088', \\\n",
    "                          '02957S000222700160', '03027S010221000271'])\n",
    "\n",
    "Lab4.events = ['03467T000003499999', '03463T020005099999']\n",
    "Lab4.queues = [[], [], []]\n",
    "Lab4.completed = ['00171S000003400136', '00233S020001600152', '00242S010005700158', '00259S000012300088', \\\n",
    "                  '02957S000222700160', '03027S010221000271', '03193S010244900166']\n",
    "assert(Lab5.processService('03446S010259500253') == None)\n",
    "assert(Lab4.events == ['03467T000003499999', '03463T020005099999', '03470T010002499999'])\n",
    "assert(Lab4.queues == [[], [], []])\n",
    "assert(Lab4.completed == ['00171S000003400136', '00233S020001600152', '00242S010005700158', '00259S000012300088', \\\n",
    "                          '02957S000222700160', '03027S010221000271', '03193S010244900166', '03446S010259500253'])\n",
    "\n",
    "Lab4.events = ['03027S010221000271', '02957S000222700160']\n",
    "Lab4.queues = [[], ['00578A999999900166', '00598A999999900253'], []]\n",
    "Lab4.completed = ['00171S000003400136', '00233S020001600152', '00242S010005700158', '00259S000012300088', \\\n",
    "                  '02650S000192200189', '02756S010196200255', '02797S000210400147']\n",
    "assert(Lab5.processService('02856S020206900233') == None)\n",
    "assert(Lab4.events == ['03027S010221000271', '02957S000222700160', '02904T020004899999'])\n",
    "assert(Lab4.queues == [[], ['00578A999999900166', '00598A999999900253'], []])\n",
    "assert(Lab4.completed == ['00171S000003400136', '00233S020001600152', '00242S010005700158', '00259S000012300088', \\\n",
    "                          '02650S000192200189', '02756S010196200255', '02797S000210400147', '02856S020206900233'])"
   ]
  },
  {
   "cell_type": "markdown",
   "metadata": {},
   "source": [
    "<h3>4) The simulation loop</h3>"
   ]
  },
  {
   "cell_type": "markdown",
   "metadata": {},
   "source": [
    "You are now ready to write the function that performs the simulation.\n",
    "\n",
    "Write a function *runSimulation( nCustomers, nTellers, maxArrival, avgService, singleQueue, seed )*.\n",
    "\n",
    "1. Start by calling the initialize function you wrote in Lab4.  \n",
    "\n",
    "2.  Next comes a loop that should iterate until the number of events on the *completed* list is equal to *nCustomers*.  On each iteration of the loop you should sort the events list, pop off the item that occurs next in time order, use getType to get its event type, and then based on the event type call either *processArrival*, *processTeller*, or *processService.*\n",
    "\n",
    "3. After the loop completes you call the function analyzeResults that you wrote in Lab4.  \n",
    "\n",
    "The return value of this function should be the tuple returned by analyzeResults."
   ]
  },
  {
   "cell_type": "code",
   "execution_count": 5,
   "metadata": {
    "collapsed": false,
    "scrolled": true
   },
   "outputs": [
    {
     "name": "stdout",
     "output_type": "stream",
     "text": [
      "number of arrival events 60\n",
      "number of teller events 63\n",
      "number of arrival events 60\n",
      "number of teller events 63\n",
      "number of arrival events 60\n",
      "number of teller events 63\n",
      "number of arrival events 60\n",
      "number of teller events 63\n"
     ]
    },
    {
     "ename": "AssertionError",
     "evalue": "",
     "output_type": "error",
     "traceback": [
      "\u001b[1;31m---------------------------------------------------------------------------\u001b[0m",
      "\u001b[1;31mAssertionError\u001b[0m                            Traceback (most recent call last)",
      "\u001b[1;32m<ipython-input-5-37aad3d0216d>\u001b[0m in \u001b[0;36m<module>\u001b[1;34m()\u001b[0m\n\u001b[0;32m      2\u001b[0m \u001b[1;32massert\u001b[0m\u001b[1;33m(\u001b[0m\u001b[0mLab5\u001b[0m\u001b[1;33m.\u001b[0m\u001b[0mrunSimulation\u001b[0m\u001b[1;33m(\u001b[0m\u001b[1;36m60\u001b[0m\u001b[1;33m,\u001b[0m \u001b[1;36m3\u001b[0m\u001b[1;33m,\u001b[0m \u001b[1;36m600\u001b[0m\u001b[1;33m,\u001b[0m \u001b[1;36m2.3\u001b[0m\u001b[1;33m*\u001b[0m\u001b[1;36m60\u001b[0m\u001b[1;33m,\u001b[0m \u001b[1;32mFalse\u001b[0m\u001b[1;33m,\u001b[0m \u001b[1;36m0\u001b[0m \u001b[1;33m)\u001b[0m \u001b[1;33m==\u001b[0m \u001b[1;33m(\u001b[0m\u001b[1;36m2367\u001b[0m\u001b[1;33m,\u001b[0m \u001b[1;36m1097.4333333333334\u001b[0m\u001b[1;33m,\u001b[0m \u001b[1;36m600.5726535750877\u001b[0m\u001b[1;33m)\u001b[0m\u001b[1;33m)\u001b[0m\u001b[1;33m\u001b[0m\u001b[0m\n\u001b[0;32m      3\u001b[0m \u001b[1;32massert\u001b[0m\u001b[1;33m(\u001b[0m\u001b[0mLab5\u001b[0m\u001b[1;33m.\u001b[0m\u001b[0mrunSimulation\u001b[0m\u001b[1;33m(\u001b[0m\u001b[1;36m60\u001b[0m\u001b[1;33m,\u001b[0m \u001b[1;36m3\u001b[0m\u001b[1;33m,\u001b[0m \u001b[1;36m600\u001b[0m\u001b[1;33m,\u001b[0m \u001b[1;36m2.3\u001b[0m\u001b[1;33m*\u001b[0m\u001b[1;36m60\u001b[0m\u001b[1;33m,\u001b[0m \u001b[1;32mTrue\u001b[0m\u001b[1;33m,\u001b[0m \u001b[1;36m1\u001b[0m \u001b[1;33m)\u001b[0m\u001b[1;33m==\u001b[0m\u001b[1;33m(\u001b[0m\u001b[1;36m2097\u001b[0m\u001b[1;33m,\u001b[0m \u001b[1;36m1124.6333333333334\u001b[0m\u001b[1;33m,\u001b[0m \u001b[1;36m621.0119420930827\u001b[0m\u001b[1;33m)\u001b[0m\u001b[1;33m)\u001b[0m\u001b[1;33m\u001b[0m\u001b[0m\n\u001b[1;32m----> 4\u001b[1;33m \u001b[1;32massert\u001b[0m\u001b[1;33m(\u001b[0m\u001b[0mLab5\u001b[0m\u001b[1;33m.\u001b[0m\u001b[0mrunSimulation\u001b[0m\u001b[1;33m(\u001b[0m\u001b[1;36m60\u001b[0m\u001b[1;33m,\u001b[0m \u001b[1;36m3\u001b[0m\u001b[1;33m,\u001b[0m \u001b[1;36m600\u001b[0m\u001b[1;33m,\u001b[0m \u001b[1;36m2.3\u001b[0m\u001b[1;33m*\u001b[0m\u001b[1;36m60\u001b[0m\u001b[1;33m,\u001b[0m \u001b[1;32mFalse\u001b[0m\u001b[1;33m,\u001b[0m \u001b[1;36m1\u001b[0m \u001b[1;33m)\u001b[0m\u001b[1;33m==\u001b[0m\u001b[1;33m(\u001b[0m\u001b[1;36m2247\u001b[0m\u001b[1;33m,\u001b[0m \u001b[1;36m1159.6\u001b[0m\u001b[1;33m,\u001b[0m \u001b[1;36m632.4185375735492\u001b[0m\u001b[1;33m)\u001b[0m\u001b[1;33m)\u001b[0m\u001b[1;33m\u001b[0m\u001b[0m\n\u001b[0m\u001b[0;32m      5\u001b[0m \u001b[1;32massert\u001b[0m\u001b[1;33m(\u001b[0m\u001b[0mLab5\u001b[0m\u001b[1;33m.\u001b[0m\u001b[0mrunSimulation\u001b[0m\u001b[1;33m(\u001b[0m\u001b[1;36m120\u001b[0m\u001b[1;33m,\u001b[0m \u001b[1;36m2\u001b[0m\u001b[1;33m,\u001b[0m \u001b[1;36m700\u001b[0m\u001b[1;33m,\u001b[0m \u001b[1;36m3\u001b[0m\u001b[1;33m*\u001b[0m\u001b[1;36m60\u001b[0m\u001b[1;33m,\u001b[0m \u001b[1;32mTrue\u001b[0m\u001b[1;33m,\u001b[0m \u001b[1;36m0\u001b[0m \u001b[1;33m)\u001b[0m\u001b[1;33m==\u001b[0m\u001b[1;33m(\u001b[0m\u001b[1;36m9681\u001b[0m\u001b[1;33m,\u001b[0m \u001b[1;36m5036.741666666667\u001b[0m\u001b[1;33m,\u001b[0m \u001b[1;36m2805.429056596731\u001b[0m\u001b[1;33m)\u001b[0m\u001b[1;33m)\u001b[0m\u001b[1;33m\u001b[0m\u001b[0m\n\u001b[0;32m      6\u001b[0m \u001b[1;32massert\u001b[0m\u001b[1;33m(\u001b[0m\u001b[0mLab5\u001b[0m\u001b[1;33m.\u001b[0m\u001b[0mrunSimulation\u001b[0m\u001b[1;33m(\u001b[0m\u001b[1;36m120\u001b[0m\u001b[1;33m,\u001b[0m \u001b[1;36m2\u001b[0m\u001b[1;33m,\u001b[0m \u001b[1;36m700\u001b[0m\u001b[1;33m,\u001b[0m \u001b[1;36m3\u001b[0m\u001b[1;33m*\u001b[0m\u001b[1;36m60\u001b[0m\u001b[1;33m,\u001b[0m \u001b[1;32mFalse\u001b[0m\u001b[1;33m,\u001b[0m \u001b[1;36m0\u001b[0m \u001b[1;33m)\u001b[0m\u001b[1;33m==\u001b[0m\u001b[1;33m(\u001b[0m\u001b[1;36m10841\u001b[0m\u001b[1;33m,\u001b[0m \u001b[1;36m5066.416666666667\u001b[0m\u001b[1;33m,\u001b[0m \u001b[1;36m2896.5926090935804\u001b[0m\u001b[1;33m)\u001b[0m\u001b[1;33m)\u001b[0m\u001b[1;33m\u001b[0m\u001b[0m\n",
      "\u001b[1;31mAssertionError\u001b[0m: "
     ]
    }
   ],
   "source": [
    "assert(Lab5.runSimulation(60, 3, 600, 2.3*60, True, 0 ) == (1958, 1089.3666666666666, 578.0935324168764))\n",
    "assert(Lab5.runSimulation(60, 3, 600, 2.3*60, False, 0 ) == (2367, 1097.4333333333334, 600.5726535750877))\n",
    "assert(Lab5.runSimulation(60, 3, 600, 2.3*60, True, 1 )==(2097, 1124.6333333333334, 621.0119420930827))\n",
    "assert(Lab5.runSimulation(60, 3, 600, 2.3*60, False, 1 )==(2247, 1159.6, 632.4185375735492))\n",
    "assert(Lab5.runSimulation(120, 2, 700, 3*60, True, 0 )==(9681, 5036.741666666667, 2805.429056596731))\n",
    "assert(Lab5.runSimulation(120, 2, 700, 3*60, False, 0 )==(10841, 5066.416666666667, 2896.5926090935804))\n",
    "assert(Lab5.runSimulation(120, 1, 700, 3*60, True, 2 )==(20432, 9948.1, 6330.8782702981525))\n",
    "assert(Lab5.runSimulation(120, 1, 700, 3*60, False, 2 )==(20432, 9948.1, 6330.8782702981525))"
   ]
  },
  {
   "cell_type": "markdown",
   "metadata": {},
   "source": [
    "<h3> 5) Writing a script to call your simulation function </h3>"
   ]
  },
  {
   "cell_type": "markdown",
   "metadata": {},
   "source": [
    "Now write a Python script to call your simulation function that will prompt the user to enter the number of customers, number of tellers, how many hours the bank is open, and the average number of minutes the teller spends with a single customer.   Your script should convert the hours to seconds, minutes to seconds, and then run the simulation twice - once for the case where you have one queue per teller, and then for the case where you have a single queue.  It should then print the results, converting from seconds back to minutes so it is easier for the user to understand.  The script should use a while loop so the user can run multiple scenarios and see what happens. \n",
    "\n",
    "Here's an example of what how your script could work:\n",
    "![simulationScript](Lab5.png)\n",
    "Your user interface can vary, but make sure you can enter the data I entered, and you get the same results as I did.\n"
   ]
  },
  {
   "cell_type": "code",
   "execution_count": null,
   "metadata": {
    "collapsed": true
   },
   "outputs": [],
   "source": []
  },
  {
   "cell_type": "code",
   "execution_count": null,
   "metadata": {
    "collapsed": true
   },
   "outputs": [],
   "source": []
  },
  {
   "cell_type": "code",
   "execution_count": null,
   "metadata": {
    "collapsed": true
   },
   "outputs": [],
   "source": []
  },
  {
   "cell_type": "code",
   "execution_count": null,
   "metadata": {
    "collapsed": true
   },
   "outputs": [],
   "source": []
  },
  {
   "cell_type": "code",
   "execution_count": null,
   "metadata": {
    "collapsed": true
   },
   "outputs": [],
   "source": []
  },
  {
   "cell_type": "code",
   "execution_count": null,
   "metadata": {
    "collapsed": true
   },
   "outputs": [],
   "source": []
  },
  {
   "cell_type": "code",
   "execution_count": null,
   "metadata": {
    "collapsed": true
   },
   "outputs": [],
   "source": []
  },
  {
   "cell_type": "code",
   "execution_count": null,
   "metadata": {
    "collapsed": true
   },
   "outputs": [],
   "source": []
  },
  {
   "cell_type": "code",
   "execution_count": null,
   "metadata": {
    "collapsed": true
   },
   "outputs": [],
   "source": []
  },
  {
   "cell_type": "code",
   "execution_count": null,
   "metadata": {
    "collapsed": true
   },
   "outputs": [],
   "source": []
  },
  {
   "cell_type": "code",
   "execution_count": null,
   "metadata": {
    "collapsed": true
   },
   "outputs": [],
   "source": []
  },
  {
   "cell_type": "code",
   "execution_count": null,
   "metadata": {
    "collapsed": true
   },
   "outputs": [],
   "source": []
  },
  {
   "cell_type": "code",
   "execution_count": null,
   "metadata": {
    "collapsed": true
   },
   "outputs": [],
   "source": []
  },
  {
   "cell_type": "code",
   "execution_count": null,
   "metadata": {
    "collapsed": true
   },
   "outputs": [],
   "source": []
  },
  {
   "cell_type": "code",
   "execution_count": null,
   "metadata": {
    "collapsed": true
   },
   "outputs": [],
   "source": []
  },
  {
   "cell_type": "code",
   "execution_count": null,
   "metadata": {
    "collapsed": true
   },
   "outputs": [],
   "source": []
  },
  {
   "cell_type": "code",
   "execution_count": null,
   "metadata": {
    "collapsed": true
   },
   "outputs": [],
   "source": []
  },
  {
   "cell_type": "code",
   "execution_count": null,
   "metadata": {
    "collapsed": true
   },
   "outputs": [],
   "source": []
  },
  {
   "cell_type": "code",
   "execution_count": null,
   "metadata": {
    "collapsed": true
   },
   "outputs": [],
   "source": []
  },
  {
   "cell_type": "code",
   "execution_count": null,
   "metadata": {
    "collapsed": true
   },
   "outputs": [],
   "source": []
  },
  {
   "cell_type": "code",
   "execution_count": null,
   "metadata": {
    "collapsed": true
   },
   "outputs": [],
   "source": []
  },
  {
   "cell_type": "code",
   "execution_count": null,
   "metadata": {
    "collapsed": true
   },
   "outputs": [],
   "source": []
  }
 ],
 "metadata": {
  "kernelspec": {
   "display_name": "Python 3",
   "language": "python",
   "name": "python3"
  },
  "language_info": {
   "codemirror_mode": {
    "name": "ipython",
    "version": 3
   },
   "file_extension": ".py",
   "mimetype": "text/x-python",
   "name": "python",
   "nbconvert_exporter": "python",
   "pygments_lexer": "ipython3",
   "version": "3.4.3"
  }
 },
 "nbformat": 4,
 "nbformat_minor": 0
}
