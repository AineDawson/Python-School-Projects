{
 "cells": [
  {
   "cell_type": "markdown",
   "metadata": {},
   "source": [
    "Lab #3\n",
    "===================\n",
    "Submit completed file to Blackboard by 21-OCT-2015.\n",
    "\n",
    "Create a file named \"Lab3.py\" containing a function for each problem listed below. Do basic testing of your functions from the IDLE REPL.  Then make sure the tests in this notebook also pass.  When you are sure your code is correct, submit your file to Blackboard.  There is no need to submit the Python notebook file."
   ]
  },
  {
   "cell_type": "markdown",
   "metadata": {},
   "source": [
    "<h3>Run this code first:</h3>"
   ]
  },
  {
   "cell_type": "code",
   "execution_count": null,
   "metadata": {
    "collapsed": true
   },
   "outputs": [],
   "source": [
    "import Lab3"
   ]
  },
  {
   "cell_type": "markdown",
   "metadata": {},
   "source": [
    "<h3>1) Finding largest square factor</h3>"
   ]
  },
  {
   "cell_type": "markdown",
   "metadata": {},
   "source": [
    "Write a Python function called *maxSquareFactor* that takes a positive integer parameter *n*, and returns the largest square number that it is divisible by.  You should use a *for* loop."
   ]
  },
  {
   "cell_type": "markdown",
   "metadata": {
    "collapsed": true
   },
   "source": [
    "# Test code for your function\n",
    "assert(type(Lab3.maxSquareFactor(48)) == int)\n",
    "assert(Lab3.maxSquareFactor(1)== 1)\n",
    "assert(Lab3.maxSquareFactor(2)== 1)\n",
    "assert(Lab3.maxSquareFactor(4)== 4)\n",
    "assert(Lab3.maxSquareFactor(6)== 1)\n",
    "assert(Lab3.maxSquareFactor(8)== 4)\n",
    "assert(Lab3.maxSquareFactor(9)== 9)\n",
    "assert(Lab3.maxSquareFactor(12)== 4)\n",
    "assert(Lab3.maxSquareFactor(18)== 9)\n",
    "assert(Lab3.maxSquareFactor(20)== 4)\n",
    "assert(Lab3.maxSquareFactor(24)== 4)\n",
    "assert(Lab3.maxSquareFactor(28)== 4)\n",
    "assert(Lab3.maxSquareFactor(36)== 36)\n",
    "assert(Lab3.maxSquareFactor(108)== 36)\n",
    "assert(Lab3.maxSquareFactor(25740)==36)"
   ]
  },
  {
   "cell_type": "markdown",
   "metadata": {},
   "source": [
    "<h3>2) Compute ISBN check symbol</h3>"
   ]
  },
  {
   "cell_type": "markdown",
   "metadata": {},
   "source": [
    "Each edition of a book is uniquely identified by an International Standard Book Number (ISBN). The ISBN is a code that consists of 9 digits followed by a tenth check symbol.  This check symbol makes it possible to detect an error if some of the 9 digits are incorrect.  \n",
    "\n",
    "The algorithm relating the digits to the check symbol goes like this.  First compute the sum up 1 times first digit on the left plus 2 times the second digit plus 3 times the third digit, and so on, finally plus 9 times the ninth digit.  Then compute the remainder you get by dividing this sum by 11.   If the remainder is 10, the check symbol is “X”.  Otherwise the check symbol is the digit you get as a remainder.\n",
    "\n",
    "For example ISBN 020508005 has check symbol 7, and the ISBN 123456789 has check symbol X.\n",
    "\n",
    "Write a Python function called *checkSymbol* that takes a positive integer parameter *isbn* and returns the check symbol as a string.  You should use a for loop to compute the check symbol."
   ]
  },
  {
   "cell_type": "code",
   "execution_count": null,
   "metadata": {
    "collapsed": true
   },
   "outputs": [],
   "source": [
    "assert(type(Lab3.checkSymbol(20508005)) == str)\n",
    "assert( Lab3.checkSymbol(20508005) == '7')\n",
    "assert( Lab3.checkSymbol(123456789) == 'X')\n",
    "assert( Lab3.checkSymbol(32130515) == '9')\n",
    "assert( Lab3.checkSymbol(94668850) == '8')\n",
    "assert( Lab3.checkSymbol(185339540) == '4')\n",
    "assert( Lab3.checkSymbol(80538984) == '9')"
   ]
  },
  {
   "cell_type": "markdown",
   "metadata": {},
   "source": [
    "<h3>3) Carryless Addition </h3>"
   ]
  },
  {
   "cell_type": "markdown",
   "metadata": {},
   "source": [
    "What if addition of numbers was defined so that carries were simply discarded?\n",
    "\n",
    "![carrylessAdd(785,376)](lab3a.png)\n",
    "\n",
    "Well mathematicians have studied this question, and if you are interested you can read about what their results here: http://www.maa.org/sites/default/files/pdf/upload_library/2/Applegate-2013.pdf, but we're going to just write some code to perform it.\n",
    "\n",
    "Write a Python function named *carrylessAdd* which takes two integer parameters and returns the carryless sum.  You should use a *for* loop."
   ]
  },
  {
   "cell_type": "code",
   "execution_count": null,
   "metadata": {
    "collapsed": true
   },
   "outputs": [],
   "source": [
    "# Test code for your function\n",
    "assert(type(Lab3.carrylessAdd(785,376)) == int)\n",
    "assert(Lab3.carrylessAdd(785,376) == 51)\n",
    "assert(Lab3.carrylessAdd(999,111) == 0)\n",
    "assert(Lab3.carrylessAdd(121,256) == 377)\n",
    "assert(Lab3.carrylessAdd(0,0) == 0)\n",
    "assert(Lab3.carrylessAdd(12,53) == 65)\n",
    "assert(Lab3.carrylessAdd(111111,122) == 111233)\n",
    "assert(Lab3.carrylessAdd(232, 111111) == 111343)\n",
    "assert(Lab3.carrylessAdd(1823,8543) == 9366)\n",
    "assert(Lab3.carrylessAdd(1445,66666) == 67001)\n",
    "assert(Lab3.carrylessAdd(145,685) == 720)\n",
    "assert(Lab3.carrylessAdd(22222,189632) == 101854)"
   ]
  },
  {
   "cell_type": "markdown",
   "metadata": {},
   "source": [
    "<h3>4) Printing an \"N\"</h3>"
   ]
  },
  {
   "cell_type": "markdown",
   "metadata": {},
   "source": [
    "Write a Python function named *printN* which takes a parameter *n* and prints an nxn N using minus signs and asterisks.  Your output should look like this:\n",
    "![printN](lab3b.png)"
   ]
  },
  {
   "cell_type": "code",
   "execution_count": null,
   "metadata": {
    "collapsed": true
   },
   "outputs": [],
   "source": [
    "# Test code for your function\n",
    "Lab3.printN(1)\n",
    "Lab3.printN(2)\n",
    "Lab3.printN(3)\n",
    "Lab3.printN(5)\n",
    "Lab3.printN(20)"
   ]
  },
  {
   "cell_type": "code",
   "execution_count": null,
   "metadata": {
    "collapsed": true
   },
   "outputs": [],
   "source": []
  }
 ],
 "metadata": {
  "kernelspec": {
   "display_name": "Python 3",
   "language": "python",
   "name": "python3"
  },
  "language_info": {
   "codemirror_mode": {
    "name": "ipython",
    "version": 3
   },
   "file_extension": ".py",
   "mimetype": "text/x-python",
   "name": "python",
   "nbconvert_exporter": "python",
   "pygments_lexer": "ipython3",
   "version": "3.4.3"
  }
 },
 "nbformat": 4,
 "nbformat_minor": 0
}
